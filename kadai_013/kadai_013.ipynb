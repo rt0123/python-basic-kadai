{
 "cells": [
  {
   "cell_type": "code",
   "execution_count": 8,
   "metadata": {},
   "outputs": [
    {
     "name": "stdout",
     "output_type": "stream",
     "text": [
      "税込み後の価格は330.0円です\n"
     ]
    }
   ],
   "source": [
    "# 関数\n",
    "def add_tax(price:float, tax_rate:float) -> float:\n",
    "    return price * (1 + tax_rate)\n",
    "\n",
    "# varに任意の値を代入\n",
    "var = int(input(\"商品の金額を入力してください（税率：10％）\"))\n",
    "tax_rate = 0.1\n",
    "total_price = add_tax(var, tax_rate)\n",
    "# 計算後の値を表示\n",
    "print(f\"税込み後の価格は{total_price}円です\")"
   ]
  }
 ],
 "metadata": {
  "kernelspec": {
   "display_name": "Python 3",
   "language": "python",
   "name": "python3"
  },
  "language_info": {
   "codemirror_mode": {
    "name": "ipython",
    "version": 3
   },
   "file_extension": ".py",
   "mimetype": "text/x-python",
   "name": "python",
   "nbconvert_exporter": "python",
   "pygments_lexer": "ipython3",
   "version": "3.9.13"
  }
 },
 "nbformat": 4,
 "nbformat_minor": 2
}
