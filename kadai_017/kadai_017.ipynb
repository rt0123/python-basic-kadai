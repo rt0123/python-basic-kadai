{
 "cells": [
  {
   "cell_type": "code",
   "execution_count": 1,
   "metadata": {},
   "outputs": [
    {
     "name": "stdout",
     "output_type": "stream",
     "text": [
      "名前：佐藤花子 さんは大人です\n",
      "名前：田中一郎 さんは大人ではありません\n",
      "名前：鈴木次郎 さんは大人です\n",
      "名前：高橋あい さんは大人ではありません\n"
     ]
    }
   ],
   "source": [
    "class Human:\n",
    "    def __init__(self, name, age):\n",
    "        self.name = name\n",
    "        self.age = age\n",
    "    \n",
    "    def check_adult(self):\n",
    "        if self.age >= 20:\n",
    "            print(f\"名前：{self.name} さんは大人です\")\n",
    "        else:\n",
    "            print(f\"名前：{self.name} さんは大人ではありません\")\n",
    "\n",
    "# インスタンス化\n",
    "humans = [\n",
    "    Human(\"佐藤花子\", 25),\n",
    "    Human(\"田中一郎\", 18),\n",
    "    Human(\"鈴木次郎\", 30),\n",
    "    Human(\"高橋あい\", 19)\n",
    "]\n",
    "\n",
    "# リストの各要素のcheck_adultメソッドを呼び出し\n",
    "for human in humans:\n",
    "    human.check_adult()\n"
   ]
  }
 ],
 "metadata": {
  "kernelspec": {
   "display_name": "Python 3",
   "language": "python",
   "name": "python3"
  },
  "language_info": {
   "codemirror_mode": {
    "name": "ipython",
    "version": 3
   },
   "file_extension": ".py",
   "mimetype": "text/x-python",
   "name": "python",
   "nbconvert_exporter": "python",
   "pygments_lexer": "ipython3",
   "version": "3.9.13"
  }
 },
 "nbformat": 4,
 "nbformat_minor": 2
}
