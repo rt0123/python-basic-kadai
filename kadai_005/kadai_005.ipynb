{
 "cells": [
  {
   "cell_type": "code",
   "execution_count": null,
   "metadata": {},
   "outputs": [
    {
     "name": "stdout",
     "output_type": "stream",
     "text": [
      "台形の面積は 75.0 cm^2です。\n"
     ]
    }
   ],
   "source": [
    "# 上辺、下辺、高さを入力\n",
    "top_base = 10\n",
    "bottom_base = 20\n",
    "height = 5\n",
    "\n",
    "# 台形の面積を計算\n",
    "area = (top_base + bottom_base) * height / 2\n",
    "\n",
    "# 結果を表示\n",
    "print(f\"台形の面積は {area} cm²です。\")"
   ]
  }
 ],
 "metadata": {
  "kernelspec": {
   "display_name": "Python 3",
   "language": "python",
   "name": "python3"
  },
  "language_info": {
   "codemirror_mode": {
    "name": "ipython",
    "version": 3
   },
   "file_extension": ".py",
   "mimetype": "text/x-python",
   "name": "python",
   "nbconvert_exporter": "python",
   "pygments_lexer": "ipython3",
   "version": "3.9.13"
  }
 },
 "nbformat": 4,
 "nbformat_minor": 2
}
