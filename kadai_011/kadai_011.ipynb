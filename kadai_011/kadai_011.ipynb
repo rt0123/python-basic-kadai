{
 "cells": [
  {
   "cell_type": "code",
   "execution_count": 12,
   "metadata": {},
   "outputs": [
    {
     "name": "stdout",
     "output_type": "stream",
     "text": [
      "水\n",
      "金\n",
      "地\n",
      "火\n",
      "木\n",
      "土\n",
      "天\n",
      "海\n",
      "冥\n",
      "水\n",
      "金\n",
      "地\n",
      "火\n",
      "木\n",
      "土\n",
      "天\n",
      "海\n",
      "冥\n"
     ]
    }
   ],
   "source": [
    "# arrayに値を格納\n",
    "array = [\"水\",\"金\",\"地\",\"火\",\"木\",\"土\",\"天\",\"海\",\"冥\"]\n",
    "\n",
    "# for文\n",
    "for planet in array:\n",
    "    print(planet)\n",
    "\n",
    "# while文\n",
    "i = 0\n",
    "while i < len(array):\n",
    "    print(array[i])\n",
    "    i += 1"
   ]
  }
 ],
 "metadata": {
  "kernelspec": {
   "display_name": "Python 3",
   "language": "python",
   "name": "python3"
  },
  "language_info": {
   "codemirror_mode": {
    "name": "ipython",
    "version": 3
   },
   "file_extension": ".py",
   "mimetype": "text/x-python",
   "name": "python",
   "nbconvert_exporter": "python",
   "pygments_lexer": "ipython3",
   "version": "3.9.13"
  }
 },
 "nbformat": 4,
 "nbformat_minor": 2
}
